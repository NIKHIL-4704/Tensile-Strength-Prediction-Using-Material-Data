{
 "cells": [
  {
   "cell_type": "code",
   "execution_count": 2,
   "id": "f36078d3-3f1c-4ffd-b3a9-9d8ca29d4a18",
   "metadata": {},
   "outputs": [
    {
     "data": {
      "text/html": [
       "<div>\n",
       "<style scoped>\n",
       "    .dataframe tbody tr th:only-of-type {\n",
       "        vertical-align: middle;\n",
       "    }\n",
       "\n",
       "    .dataframe tbody tr th {\n",
       "        vertical-align: top;\n",
       "    }\n",
       "\n",
       "    .dataframe thead th {\n",
       "        text-align: right;\n",
       "    }\n",
       "</style>\n",
       "<table border=\"1\" class=\"dataframe\">\n",
       "  <thead>\n",
       "    <tr style=\"text-align: right;\">\n",
       "      <th></th>\n",
       "      <th>Material</th>\n",
       "      <th>Density</th>\n",
       "      <th>Thermal_Conductivity</th>\n",
       "      <th>Youngs_Modulus</th>\n",
       "      <th>Tensile_Strength</th>\n",
       "      <th>Elongation</th>\n",
       "      <th>Hardness</th>\n",
       "    </tr>\n",
       "  </thead>\n",
       "  <tbody>\n",
       "    <tr>\n",
       "      <th>0</th>\n",
       "      <td>Aluminum</td>\n",
       "      <td>8989.129447</td>\n",
       "      <td>95.837383</td>\n",
       "      <td>196.120774</td>\n",
       "      <td>427.877131</td>\n",
       "      <td>29.206045</td>\n",
       "      <td>227.252472</td>\n",
       "    </tr>\n",
       "    <tr>\n",
       "      <th>1</th>\n",
       "      <td>Acrylic</td>\n",
       "      <td>7146.454919</td>\n",
       "      <td>111.456335</td>\n",
       "      <td>71.909094</td>\n",
       "      <td>188.425327</td>\n",
       "      <td>33.431604</td>\n",
       "      <td>57.910235</td>\n",
       "    </tr>\n",
       "    <tr>\n",
       "      <th>2</th>\n",
       "      <td>Polysulfone</td>\n",
       "      <td>8830.812776</td>\n",
       "      <td>97.871703</td>\n",
       "      <td>NaN</td>\n",
       "      <td>496.348032</td>\n",
       "      <td>27.186248</td>\n",
       "      <td>NaN</td>\n",
       "    </tr>\n",
       "    <tr>\n",
       "      <th>3</th>\n",
       "      <td>Spring Steel</td>\n",
       "      <td>8964.408592</td>\n",
       "      <td>87.443499</td>\n",
       "      <td>192.062181</td>\n",
       "      <td>408.885627</td>\n",
       "      <td>20.821109</td>\n",
       "      <td>NaN</td>\n",
       "    </tr>\n",
       "    <tr>\n",
       "      <th>4</th>\n",
       "      <td>Silicon Nitride</td>\n",
       "      <td>8980.192336</td>\n",
       "      <td>NaN</td>\n",
       "      <td>199.559891</td>\n",
       "      <td>498.185984</td>\n",
       "      <td>26.854682</td>\n",
       "      <td>235.051603</td>\n",
       "    </tr>\n",
       "    <tr>\n",
       "      <th>5</th>\n",
       "      <td>Polysulfone</td>\n",
       "      <td>7125.482469</td>\n",
       "      <td>118.796698</td>\n",
       "      <td>78.238387</td>\n",
       "      <td>161.776432</td>\n",
       "      <td>34.564177</td>\n",
       "      <td>60.195932</td>\n",
       "    </tr>\n",
       "    <tr>\n",
       "      <th>6</th>\n",
       "      <td>Glass</td>\n",
       "      <td>8450.415856</td>\n",
       "      <td>108.773993</td>\n",
       "      <td>92.898877</td>\n",
       "      <td>NaN</td>\n",
       "      <td>46.721302</td>\n",
       "      <td>90.273312</td>\n",
       "    </tr>\n",
       "    <tr>\n",
       "      <th>7</th>\n",
       "      <td>Bronze</td>\n",
       "      <td>8948.375602</td>\n",
       "      <td>406.978040</td>\n",
       "      <td>106.300698</td>\n",
       "      <td>202.607189</td>\n",
       "      <td>61.191250</td>\n",
       "      <td>46.134058</td>\n",
       "    </tr>\n",
       "    <tr>\n",
       "      <th>8</th>\n",
       "      <td>Chromoly Steel</td>\n",
       "      <td>8812.779065</td>\n",
       "      <td>95.632277</td>\n",
       "      <td>193.430376</td>\n",
       "      <td>NaN</td>\n",
       "      <td>27.771851</td>\n",
       "      <td>215.832044</td>\n",
       "    </tr>\n",
       "    <tr>\n",
       "      <th>9</th>\n",
       "      <td>High Entropy Alloy</td>\n",
       "      <td>8981.027774</td>\n",
       "      <td>NaN</td>\n",
       "      <td>110.087722</td>\n",
       "      <td>241.962074</td>\n",
       "      <td>59.748485</td>\n",
       "      <td>42.963609</td>\n",
       "    </tr>\n",
       "  </tbody>\n",
       "</table>\n",
       "</div>"
      ],
      "text/plain": [
       "             Material      Density  Thermal_Conductivity  Youngs_Modulus  \\\n",
       "0            Aluminum  8989.129447             95.837383      196.120774   \n",
       "1             Acrylic  7146.454919            111.456335       71.909094   \n",
       "2         Polysulfone  8830.812776             97.871703             NaN   \n",
       "3        Spring Steel  8964.408592             87.443499      192.062181   \n",
       "4     Silicon Nitride  8980.192336                   NaN      199.559891   \n",
       "5         Polysulfone  7125.482469            118.796698       78.238387   \n",
       "6               Glass  8450.415856            108.773993       92.898877   \n",
       "7              Bronze  8948.375602            406.978040      106.300698   \n",
       "8      Chromoly Steel  8812.779065             95.632277      193.430376   \n",
       "9  High Entropy Alloy  8981.027774                   NaN      110.087722   \n",
       "\n",
       "   Tensile_Strength  Elongation    Hardness  \n",
       "0        427.877131   29.206045  227.252472  \n",
       "1        188.425327   33.431604   57.910235  \n",
       "2        496.348032   27.186248         NaN  \n",
       "3        408.885627   20.821109         NaN  \n",
       "4        498.185984   26.854682  235.051603  \n",
       "5        161.776432   34.564177   60.195932  \n",
       "6               NaN   46.721302   90.273312  \n",
       "7        202.607189   61.191250   46.134058  \n",
       "8               NaN   27.771851  215.832044  \n",
       "9        241.962074   59.748485   42.963609  "
      ]
     },
     "execution_count": 2,
     "metadata": {},
     "output_type": "execute_result"
    }
   ],
   "source": [
    "import pandas as pd\n",
    "Dataset=pd.read_csv(r\"C:\\Users\\nikhi\\OneDrive\\Desktop\\Prediction _of _Tensile-strength\\material_properties_300_real_materials.csv\")\n",
    "Dataset.head(10)"
   ]
  },
  {
   "cell_type": "code",
   "execution_count": 3,
   "id": "2befb0d5-559c-41fe-961b-ed4455816582",
   "metadata": {},
   "outputs": [
    {
     "data": {
      "text/plain": [
       "Material                 0\n",
       "Density                 30\n",
       "Thermal_Conductivity    20\n",
       "Youngs_Modulus          35\n",
       "Tensile_Strength        22\n",
       "Elongation              22\n",
       "Hardness                30\n",
       "dtype: int64"
      ]
     },
     "execution_count": 3,
     "metadata": {},
     "output_type": "execute_result"
    }
   ],
   "source": [
    "# Number of missing data in every column\n",
    "Dataset.isnull().sum()"
   ]
  },
  {
   "cell_type": "code",
   "execution_count": 4,
   "id": "7fbaa563-4fad-4d46-9f54-57652ca90af4",
   "metadata": {},
   "outputs": [
    {
     "data": {
      "text/plain": [
       "(200, 7)"
      ]
     },
     "execution_count": 4,
     "metadata": {},
     "output_type": "execute_result"
    }
   ],
   "source": [
    "Dataset.shape"
   ]
  },
  {
   "cell_type": "code",
   "execution_count": 6,
   "id": "5b9cac4f-a14a-4402-a25c-f2a7f83e0dbe",
   "metadata": {},
   "outputs": [
    {
     "data": {
      "text/plain": [
       "Material                 0.0\n",
       "Density                 15.0\n",
       "Thermal_Conductivity    10.0\n",
       "Youngs_Modulus          17.5\n",
       "Tensile_Strength        11.0\n",
       "Elongation              11.0\n",
       "Hardness                15.0\n",
       "dtype: float64"
      ]
     },
     "execution_count": 6,
     "metadata": {},
     "output_type": "execute_result"
    }
   ],
   "source": [
    "# Precentage of data missing in every column\n",
    "((Dataset.isnull().sum())/Dataset.shape[0])*100"
   ]
  },
  {
   "cell_type": "code",
   "execution_count": null,
   "id": "bc6d386f-0fd0-4ab7-a30f-d2cce5826fed",
   "metadata": {},
   "outputs": [],
   "source": [
    "# If a column has >40% data missing we can drop that column\n",
    "# "
   ]
  }
 ],
 "metadata": {
  "kernelspec": {
   "display_name": "Python 3 (ipykernel)",
   "language": "python",
   "name": "python3"
  },
  "language_info": {
   "codemirror_mode": {
    "name": "ipython",
    "version": 3
   },
   "file_extension": ".py",
   "mimetype": "text/x-python",
   "name": "python",
   "nbconvert_exporter": "python",
   "pygments_lexer": "ipython3",
   "version": "3.12.4"
  },
  "widgets": {
   "application/vnd.jupyter.widget-state+json": {
    "state": {},
    "version_major": 2,
    "version_minor": 0
   }
  }
 },
 "nbformat": 4,
 "nbformat_minor": 5
}
